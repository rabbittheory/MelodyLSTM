{
 "cells": [
  {
   "cell_type": "code",
   "execution_count": 7,
   "id": "e17c661b-aa40-4739-a1b6-da18001da863",
   "metadata": {},
   "outputs": [
    {
     "name": "stdout",
     "output_type": "stream",
     "text": [
      "./music_genre_classifier_16_06_16_01.pth\n"
     ]
    }
   ],
   "source": [
    "from datetime import datetime\n",
    "filename = f\"./music_genre_classifier_{datetime.now():%d_%m_%H_%M}.pth\"\n",
    "print(filename)"
   ]
  },
  {
   "cell_type": "code",
   "execution_count": 8,
   "id": "d7a2aba8-d75b-4252-919f-e2ca65df7d9a",
   "metadata": {},
   "outputs": [
    {
     "data": {
      "text/plain": [
       "(True, 1)"
      ]
     },
     "execution_count": 8,
     "metadata": {},
     "output_type": "execute_result"
    }
   ],
   "source": [
    "import torch\n",
    "torch.cuda.is_available(),torch.cuda.device_count()"
   ]
  },
  {
   "cell_type": "code",
   "execution_count": null,
   "id": "36b36df4-3406-4ef8-a04e-5162b44823e2",
   "metadata": {},
   "outputs": [],
   "source": [
    "'''\n",
    "def create_sequences(notes, seq_length):\n",
    "    sequences = []\n",
    "    next_notes = []\n",
    "    \n",
    "    for i in range(len(notes) - seq_length):\n",
    "        seq_in = notes[i:i + seq_length]\n",
    "        #stop token implementation for later\n",
    "        #seq_in = np.vstack([seq_in, [-1,-1,-1,-1]])\n",
    "        seq_out = notes[i + seq_length]\n",
    "        sequences.append(seq_in)\n",
    "        next_notes.append(seq_out)\n",
    "    \n",
    "    return np.array(sequences), np.array(next_notes)\n",
    "'''\n",
    "\n"
   ]
  }
 ],
 "metadata": {
  "kernelspec": {
   "display_name": "Python 3 (ipykernel)",
   "language": "python",
   "name": "python3"
  },
  "language_info": {
   "codemirror_mode": {
    "name": "ipython",
    "version": 3
   },
   "file_extension": ".py",
   "mimetype": "text/x-python",
   "name": "python",
   "nbconvert_exporter": "python",
   "pygments_lexer": "ipython3",
   "version": "3.12.3"
  }
 },
 "nbformat": 4,
 "nbformat_minor": 5
}
