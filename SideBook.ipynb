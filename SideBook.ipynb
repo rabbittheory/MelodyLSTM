{
 "cells": [
  {
   "cell_type": "code",
   "execution_count": 7,
   "id": "e17c661b-aa40-4739-a1b6-da18001da863",
   "metadata": {},
   "outputs": [
    {
     "name": "stdout",
     "output_type": "stream",
     "text": [
      "./music_genre_classifier_16_06_16_01.pth\n"
     ]
    }
   ],
   "source": [
    "from datetime import datetime\n",
    "filename = f\"./music_genre_classifier_{datetime.now():%d_%m_%H_%M}.pth\"\n",
    "print(filename)"
   ]
  },
  {
   "cell_type": "code",
   "execution_count": 8,
   "id": "d7a2aba8-d75b-4252-919f-e2ca65df7d9a",
   "metadata": {},
   "outputs": [
    {
     "data": {
      "text/plain": [
       "(True, 1)"
      ]
     },
     "execution_count": 8,
     "metadata": {},
     "output_type": "execute_result"
    }
   ],
   "source": [
    "import torch\n",
    "torch.cuda.is_available(),torch.cuda.device_count()"
   ]
  },
  {
   "cell_type": "code",
   "execution_count": 1,
   "id": "5b302047-4bbf-4732-af57-c72befd59a4f",
   "metadata": {},
   "outputs": [
    {
     "data": {
      "text/plain": [
       "16"
      ]
     },
     "execution_count": 1,
     "metadata": {},
     "output_type": "execute_result"
    }
   ],
   "source": [
    "144-128"
   ]
  },
  {
   "cell_type": "code",
   "execution_count": null,
   "id": "36b36df4-3406-4ef8-a04e-5162b44823e2",
   "metadata": {},
   "outputs": [],
   "source": []
  }
 ],
 "metadata": {
  "kernelspec": {
   "display_name": "Python 3 (ipykernel)",
   "language": "python",
   "name": "python3"
  },
  "language_info": {
   "codemirror_mode": {
    "name": "ipython",
    "version": 3
   },
   "file_extension": ".py",
   "mimetype": "text/x-python",
   "name": "python",
   "nbconvert_exporter": "python",
   "pygments_lexer": "ipython3",
   "version": "3.12.3"
  }
 },
 "nbformat": 4,
 "nbformat_minor": 5
}
