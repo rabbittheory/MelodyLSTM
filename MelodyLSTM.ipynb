{
 "cells": [
  {
   "cell_type": "code",
   "execution_count": 56,
   "id": "e492f1d5-f079-46b8-9490-e81f4dbe6554",
   "metadata": {},
   "outputs": [],
   "source": [
    "#Imports\n",
    "import os\n",
    "import pretty_midi\n",
    "import numpy as np\n",
    "import matplotlib.pyplot as plt\n",
    "import torch\n",
    "from torch.utils.data import Dataset, DataLoader\n",
    "import torch.nn as nn\n",
    "from datetime import datetime\n",
    "import random\n",
    "from sklearn.preprocessing import MinMaxScaler\n",
    "from sklearn.model_selection import train_test_split\n",
    "\n",
    "stop_token=[-1,-1,-1,-1]\n",
    "np.set_printoptions(suppress=True, precision=2)"
   ]
  },
  {
   "cell_type": "code",
   "execution_count": 57,
   "id": "6b3edd51-6df3-4909-8c2a-17c083769db3",
   "metadata": {},
   "outputs": [],
   "source": [
    "def extract_notes(midi_file):\n",
    "    midi_data = pretty_midi.PrettyMIDI(midi_file)\n",
    "    notes = []\n",
    "    for instrument in midi_data.instruments:\n",
    "        if not instrument.is_drum:\n",
    "            for note in instrument.notes:\n",
    "                notes.append([note.start, note.pitch, note.velocity, note.end-note.start])\n",
    "            #notes.append(stop_token)\n",
    "    return sorted(notes, key=lambda x: x[0])"
   ]
  },
  {
   "cell_type": "code",
   "execution_count": 64,
   "id": "71e45fe7-ea51-4b54-bdcd-bd0a3c2145bc",
   "metadata": {},
   "outputs": [],
   "source": [
    "def normalize_notes(notes,scaler):\n",
    "    notes = np.array(notes)\n",
    "    normalized_notes = scaler.transform(notes)\n",
    "\n",
    "    return normalized_notes"
   ]
  },
  {
   "cell_type": "code",
   "execution_count": 65,
   "id": "9b7e18d3-4207-4920-aa0f-ae124823b30d",
   "metadata": {},
   "outputs": [],
   "source": [
    "def create_sequences_sliding_window(notes, sequence_length, step_size):\n",
    "    sequences = []\n",
    "    next_notes = []\n",
    "    for i in range(0, len(notes) - sequence_length, step_size):\n",
    "        seq_in = notes[i:i + sequence_length]\n",
    "        seq_out = notes[i + sequence_length]\n",
    "\n",
    "        sequences.append(seq_in)\n",
    "        next_notes.append(seq_out)\n",
    "\n",
    "    return np.array(sequences), np.array(next_notes)"
   ]
  },
  {
   "cell_type": "code",
   "execution_count": 66,
   "id": "b2400c5a-8759-4f45-af6e-2230a45c5415",
   "metadata": {},
   "outputs": [],
   "source": [
    "midi_dir = './smaller-dataset'\n",
    "all_sequences = []\n",
    "global_scaler = MinMaxScaler()\n",
    "\n",
    "for midi_file in os.listdir(midi_dir):\n",
    "    if midi_file.endswith('.mid') or midi_file.endswith('.midi'):\n",
    "        notes = extract_notes(os.path.join(midi_dir, midi_file))\n",
    "        global_scaler.partial_fit(notes)\n",
    "        normalized_notes = normalize_notes(notes,global_scaler)\n",
    "        #sequences,next_notes = create_sequences(normalized_notes, seq_length=30)\n",
    "        sequences,next_notes = create_sequences_sliding_window(normalized_notes,32,16)\n",
    "\n",
    "        all_sequences.extend(sequences)"
   ]
  },
  {
   "cell_type": "code",
   "execution_count": 67,
   "id": "11036ead-1817-4b0b-a63a-043f8d4ba51f",
   "metadata": {},
   "outputs": [],
   "source": [
    "class MIDIDataset(Dataset):\n",
    "    def __init__(self, sequences, next_notes):\n",
    "        self.sequences = sequences\n",
    "        self.next_notes = next_notes\n",
    "\n",
    "    def __len__(self):\n",
    "        return len(self.sequences)\n",
    "\n",
    "    def __getitem__(self, idx):\n",
    "        return torch.tensor(self.sequences[idx], dtype=torch.float32).clone().detach(), torch.tensor(self.next_notes[idx], dtype=torch.float32).clone().detach()\n",
    "\n",
    "dataset = MIDIDataset(sequences, next_notes)\n",
    "dataloader = DataLoader(dataset, batch_size=16, shuffle=True)"
   ]
  },
  {
   "cell_type": "code",
   "execution_count": 68,
   "id": "d9dbf742-4bef-4092-85b5-f5774e59722d",
   "metadata": {},
   "outputs": [],
   "source": [
    "class LSTMModel(nn.Module):\n",
    "    def __init__(self, input_size, hidden_size, num_layers, output_size, dropout=0.5):\n",
    "        super(LSTMModel, self).__init__()\n",
    "        self.hidden_size = hidden_size\n",
    "        self.num_layers = num_layers\n",
    "        #Added dropout to prevent overfitting\n",
    "        self.lstm = nn.LSTM(input_size, hidden_size, num_layers, dropout=dropout, batch_first=True)\n",
    "        #Added Batch Normalisation\n",
    "        #self.bn = nn.BatchNorm1d(hidden_size)\n",
    "        self.fc = nn.Linear(hidden_size, output_size)\n",
    "        self.to(device)\n",
    "\n",
    "    def forward(self, x):\n",
    "        h0 = torch.zeros(self.num_layers, x.size(0), self.hidden_size).to(x.device)\n",
    "        c0 = torch.zeros(self.num_layers, x.size(0), self.hidden_size).to(x.device)\n",
    "        \n",
    "        out, _ = self.lstm(x, (h0, c0))\n",
    "        #out = self.bn(out[:, -1, :])  # Applying batch normalization\n",
    "        out = self.fc(out[:, -1, :])\n",
    "        return out"
   ]
  },
  {
   "cell_type": "code",
   "execution_count": 69,
   "id": "05555e1f-2728-4483-86c6-f0680624d2dc",
   "metadata": {},
   "outputs": [
    {
     "name": "stdout",
     "output_type": "stream",
     "text": [
      "Using:  cuda\n",
      "Epoch [1/5], Average Loss: 0.1643\n",
      "Epoch [2/5], Average Loss: 0.0297\n",
      "Epoch [3/5], Average Loss: 0.0145\n",
      "Epoch [4/5], Average Loss: 0.0135\n",
      "Epoch [5/5], Average Loss: 0.0131\n"
     ]
    }
   ],
   "source": [
    "device = torch.device('cuda' if torch.cuda.is_available() else 'cpu')\n",
    "\n",
    "input_size = 4  # [start_time, pitch, velocity, duration]\n",
    "hidden_size = 16\n",
    "num_layers = 2\n",
    "output_size=4\n",
    "\n",
    "model = LSTMModel(input_size, hidden_size, num_layers, output_size)\n",
    "model.device=device\n",
    "\n",
    "print('Using: ',model.device.type)\n",
    "criterion = nn.MSELoss()\n",
    "optimizer = torch.optim.Adam(model.parameters(), lr=0.001)\n",
    "\n",
    "num_epochs = 5\n",
    "#for hyperparameter testing\n",
    "for epoch in range(num_epochs):\n",
    "    model.train()\n",
    "    total_loss = 0.0\n",
    "    for inputs, targets  in dataloader:\n",
    "        inputs = inputs.to(model.device)\n",
    "        targets = targets.to(model.device)\n",
    "        optimizer.zero_grad()\n",
    "        #forward pass\n",
    "        outputs = model(inputs)\n",
    "        \n",
    "        #calculate loss\n",
    "        loss = criterion(outputs, targets)\n",
    "        \n",
    "        #backward pass and optimize\n",
    "        #optimizer.zero_grad()\n",
    "        loss.backward()\n",
    "        optimizer.step()\n",
    "        total_loss += loss.item()\n",
    "\n",
    "\n",
    "    #print average loss for the epoch\n",
    "    avg_loss = total_loss / len(dataloader)\n",
    "    print(f'Epoch [{epoch+1}/{num_epochs}], Average Loss: {avg_loss:.4f}')\n",
    "\n"
   ]
  },
  {
   "cell_type": "code",
   "execution_count": 70,
   "id": "52244c80-29b5-492e-963f-17f4b57d7092",
   "metadata": {},
   "outputs": [
    {
     "name": "stdout",
     "output_type": "stream",
     "text": [
      "Model saved\n"
     ]
    }
   ],
   "source": [
    "filename = f\"./models/model_{datetime.now():%d_%m_%H_%M}.pth\"\n",
    "torch.save(model.state_dict(), filename)\n",
    "print('Model saved')"
   ]
  },
  {
   "cell_type": "code",
   "execution_count": 71,
   "id": "45362654-0bc8-45f7-839a-2567c360f143",
   "metadata": {},
   "outputs": [
    {
     "name": "stdout",
     "output_type": "stream",
     "text": [
      "Step 1, Next Note: [424.35  67.57  70.59   0.01]\n",
      "Step 2, Next Note: [424.44  67.6   70.74   0.03]\n",
      "Step 3, Next Note: [424.52  67.69  70.85   0.03]\n",
      "Step 4, Next Note: [424.58  67.76  70.95   0.03]\n",
      "Step 5, Next Note: [424.63  67.83  71.04   0.03]\n",
      "Step 6, Next Note: [424.68  67.88  71.11   0.03]\n",
      "Step 7, Next Note: [424.73  67.92  71.17   0.03]\n",
      "Step 8, Next Note: [424.77  67.96  71.22   0.03]\n",
      "Step 9, Next Note: [424.81  67.99  71.26   0.03]\n",
      "Step 10, Next Note: [424.85  68.01  71.29   0.03]\n",
      "Slice of prediction from normalised data\n",
      "(10, 4)\n"
     ]
    }
   ],
   "source": [
    "def generate_music(model, start_sequence, length):\n",
    "    model.eval()\n",
    "    generated_sequence = start_sequence.tolist()\n",
    "    current_sequence = start_sequence\n",
    "\n",
    "    for i in range(length):\n",
    "        current_sequence_tensor = torch.tensor(current_sequence, dtype=torch.float32).unsqueeze(0).to(model.device)\n",
    "        # Generate next note\n",
    "        next_note = model(current_sequence_tensor).detach().cpu().numpy().squeeze(0)\n",
    "        next_note_denormalized = global_scaler.inverse_transform(next_note.reshape(1, -1)).flatten()\n",
    "        #print(f\"Step {i+1}, Current Sequence: {current_sequence}\")\n",
    "        print(f\"Step {i+1}, Next Note: {next_note_denormalized}\")\n",
    "        generated_sequence.append(next_note_denormalized.tolist())\n",
    "        current_sequence = np.append(current_sequence[1:], [next_note], axis=0)\n",
    "\n",
    "    # Convert the generated sequence to a NumPy array and trim the initial input sequence\n",
    "    return np.array(generated_sequence)[len(start_sequence):]\n",
    "    #return np.array(generated_sequence)\n",
    "\n",
    "#generate the sequence using your model\n",
    "start_sequence = sequences[1]\n",
    "#or pick random\n",
    "#start_sequence = random.choice(sequences)\n",
    "#generate n notes\n",
    "generated_sequence = generate_music(model, start_sequence, 10)\n",
    "\n",
    "print('Slice of prediction from normalised data')\n",
    "print(generated_sequence.shape)\n",
    "#denormalized_sequence = denormalize_notes(generated_sequence, global_scaler)\n"
   ]
  },
  {
   "cell_type": "code",
   "execution_count": 72,
   "id": "bfe7a342-cce8-4dec-8591-edfb8b5e03ee",
   "metadata": {},
   "outputs": [
    {
     "name": "stdout",
     "output_type": "stream",
     "text": [
      "Total notes: 10\n",
      "Slice of generated notes for debugging\n",
      "Generated MIDI file saved to ./generated_music_19_06_00_55.mid\n"
     ]
    }
   ],
   "source": [
    "# define the MIDI conversion function\n",
    "def sequence_to_midi(denormalized_sequence, output_path):\n",
    "    midi = pretty_midi.PrettyMIDI()\n",
    "    #program is piano\n",
    "    instrument = pretty_midi.Instrument(program=0)\n",
    "    \n",
    "    for i,note in enumerate(denormalized_sequence):\n",
    "        #first note starts at 0 and the next notes should take the previous notes starting point and add the duration of self\n",
    "        start = 0.0 if i == 0 else instrument.notes[-1].end\n",
    "        pitch = int(note[1])\n",
    "        velocity = int(note[2])\n",
    "        duration = note[3]\n",
    "\n",
    "        if not (0 <= velocity <= 127):\n",
    "            continue\n",
    "        if not (0 <= pitch <= 127):\n",
    "            continue\n",
    "        midi_note = pretty_midi.Note(\n",
    "            velocity=velocity,\n",
    "            pitch=pitch,\n",
    "            start=start,\n",
    "            end=start+duration\n",
    "            #end=start+duration+1.5\n",
    "        )\n",
    "        #print(midi_note)\n",
    "        instrument.notes.append(midi_note)\n",
    "    print('Total notes:',len(instrument.notes))\n",
    "    print('Slice of generated notes for debugging')\n",
    "    #print(instrument.notes[0:10])\n",
    "    midi.instruments.append(instrument)\n",
    "    \n",
    "    try:\n",
    "        midi.write(output_path)\n",
    "        print(f\"Generated MIDI file saved to {output_path}\")\n",
    "    except ValueError:\n",
    "        print('error here',ValueError)\n",
    "\n",
    "output_path = f\"./generated_music_{datetime.now():%d_%m_%H_%M}.mid\"\n",
    "sequence_to_midi(generated_sequence, output_path)\n"
   ]
  },
  {
   "cell_type": "code",
   "execution_count": 73,
   "id": "4264ae8d-923d-41ed-96e1-79cc705dc3e8",
   "metadata": {},
   "outputs": [],
   "source": [
    "# Load MIDI file\n",
    "midi_file = output_path\n",
    "midi_data = pretty_midi.PrettyMIDI(midi_file)\n",
    "\n",
    "#extract notes from the first instrument\n",
    "notes = midi_data.instruments[0].notes\n",
    "\n",
    "#extract start times, pitches, and durations\n",
    "start_times = np.array([note.start for note in notes])\n",
    "end_times = np.array([note.end for note in notes])\n",
    "durations = end_times - start_times\n",
    "pitches = np.array([note.pitch for note in notes])\n",
    "\n",
    "#normalize the pitch column (second column) to [0, 1] range\n",
    "min_pitch = 0  #MIDI pitch minimum value\n",
    "max_pitch = 127  #MIDI pitch maximum value\n",
    "normalized_pitches = (pitches - min_pitch) / (max_pitch - min_pitch)\n",
    "\n",
    "#function to map MIDI pitch number to note name\n",
    "def midi_to_note_name(midi_num):\n",
    "    note_names = ['C', 'C#', 'D', 'D#', 'E', 'F', 'F#', 'G', 'G#', 'A', 'A#', 'B']\n",
    "    octave = (midi_num // 12) - 1\n",
    "    note = note_names[midi_num % 12]\n",
    "    return f\"{note}{octave}\"\n"
   ]
  },
  {
   "cell_type": "code",
   "execution_count": 74,
   "id": "c5140f9d-8a96-4b6d-b31a-89265cc53fa0",
   "metadata": {},
   "outputs": [
    {
     "data": {
      "image/png": "[encoded data removed]",
      "text/plain": [
       "<Figure size 1200x600 with 1 Axes>"
      ]
     },
     "metadata": {},
     "output_type": "display_data"
    }
   ],
   "source": [
    "#map normalized pitch values back to note names\n",
    "note_names = [midi_to_note_name(int(pitch * 127)) for pitch in normalized_pitches]\n",
    "\n",
    "plt.figure(figsize=(12, 6))\n",
    "plt.scatter(start_times, normalized_pitches, s=10, label='Notes', color='blue')\n",
    "plt.xlabel('Time (seconds)')\n",
    "plt.ylabel('Normalized MIDI Pitch')\n",
    "plt.title('Normalized MIDI Notes and Durations')\n",
    "plt.legend()\n",
    "plt.grid(True)\n",
    "\n",
    "#labels\n",
    "for i, txt in enumerate(note_names):\n",
    "    plt.annotate(txt, (start_times[i], normalized_pitches[i]), fontsize=8, rotation=45)\n",
    "\n",
    "plt.show()"
   ]
  },
  {
   "cell_type": "code",
   "execution_count": null,
   "id": "60a5d455-118a-4bc7-bf8a-b461a0ef851b",
   "metadata": {},
   "outputs": [],
   "source": []
  },
  {
   "cell_type": "code",
   "execution_count": null,
   "id": "6852721c-1851-443c-a67c-a3c74e6bd394",
   "metadata": {},
   "outputs": [],
   "source": []
  }
 ],
 "metadata": {
  "kernelspec": {
   "display_name": "Python 3 (ipykernel)",
   "language": "python",
   "name": "python3"
  },
  "language_info": {
   "codemirror_mode": {
    "name": "ipython",
    "version": 3
   },
   "file_extension": ".py",
   "mimetype": "text/x-python",
   "name": "python",
   "nbconvert_exporter": "python",
   "pygments_lexer": "ipython3",
   "version": "3.12.3"
  }
 },
 "nbformat": 4,
 "nbformat_minor": 5
}
