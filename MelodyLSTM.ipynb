{
 "cells": [
  {
   "cell_type": "code",
   "execution_count": 426,
   "id": "e492f1d5-f079-46b8-9490-e81f4dbe6554",
   "metadata": {},
   "outputs": [],
   "source": [
    "#Imports\n",
    "import os\n",
    "import pretty_midi\n",
    "import numpy as np\n",
    "import matplotlib.pyplot as plt\n",
    "import torch\n",
    "from torch.utils.data import Dataset, DataLoader\n",
    "import torch.nn as nn\n",
    "from datetime import datetime\n",
    "import random\n",
    "\n",
    "stop_token=[-1,-1,-1,-1]\n",
    "np.set_printoptions(suppress=True, precision=4)\n"
   ]
  },
  {
   "cell_type": "code",
   "execution_count": 461,
   "id": "6b3edd51-6df3-4909-8c2a-17c083769db3",
   "metadata": {},
   "outputs": [],
   "source": [
    "def extract_notes(midi_file):\n",
    "    midi_data = pretty_midi.PrettyMIDI(midi_file)\n",
    "    notes = []\n",
    "    for instrument in midi_data.instruments:\n",
    "        if not instrument.is_drum:\n",
    "            for note in instrument.notes:\n",
    "                notes.append([note.start, note.pitch, note.velocity, note.end-note.start])\n",
    "            #notes.append(stop_token)\n",
    "\n",
    "    return sorted(notes, key=lambda x: x[0])\n",
    "\n",
    "midi_dir = './smaller-dataset'\n",
    "all_notes = []\n",
    "\n",
    "for midi_file in os.listdir(midi_dir):\n",
    "    if midi_file.endswith('.mid') or midi_file.endswith('.midi'):\n",
    "        notes = extract_notes(os.path.join(midi_dir, midi_file))\n",
    "        all_notes.extend(notes)\n"
   ]
  },
  {
   "cell_type": "code",
   "execution_count": 462,
   "id": "71e45fe7-ea51-4b54-bdcd-bd0a3c2145bc",
   "metadata": {},
   "outputs": [
    {
     "name": "stdout",
     "output_type": "stream",
     "text": [
      "2622.6783854166665 15.12890625\n"
     ]
    }
   ],
   "source": [
    "def normalize_notes(notes):\n",
    "    notes = np.array(notes)\n",
    "    max_time = np.max(notes[:, 0])\n",
    "    max_duration = np.max(notes[:, 3])\n",
    "    notes[:, 0] /= max_time\n",
    "    notes[:, 1] /= 127.0\n",
    "    notes[:, 2] /= 127.0\n",
    "    notes[:, 3] /= max_duration\n",
    "    return notes,max_time,max_duration\n",
    "\n",
    "normalized_notes,max_time,max_duration = normalize_notes(all_notes)\n",
    "print(max_time,max_duration)"
   ]
  },
  {
   "cell_type": "code",
   "execution_count": 463,
   "id": "9b7e18d3-4207-4920-aa0f-ae124823b30d",
   "metadata": {},
   "outputs": [
    {
     "name": "stdout",
     "output_type": "stream",
     "text": [
      "(183519, 16, 4) (183519, 4)\n"
     ]
    }
   ],
   "source": [
    "sequence_length = 16\n",
    "#remember the current n notes\n",
    "def create_sequences(notes, seq_length):\n",
    "    sequences = []\n",
    "    next_notes = []\n",
    "    \n",
    "    for i in range(len(notes) - seq_length):\n",
    "        seq_in = notes[i:i + seq_length]\n",
    "        #stop token implementation for later\n",
    "        #seq_in = np.vstack([seq_in, [-1,-1,-1,-1]])\n",
    "        seq_out = notes[i + seq_length]\n",
    "        sequences.append(seq_in)\n",
    "        next_notes.append(seq_out)\n",
    "    \n",
    "    return np.array(sequences), np.array(next_notes)\n",
    "\n",
    "sequences, next_notes = create_sequences(normalized_notes, sequence_length)\n",
    "print(sequences.shape, next_notes.shape)"
   ]
  },
  {
   "cell_type": "code",
   "execution_count": 464,
   "id": "11036ead-1817-4b0b-a63a-043f8d4ba51f",
   "metadata": {},
   "outputs": [],
   "source": [
    "class MIDIDataset(Dataset):\n",
    "    def __init__(self, sequences, next_notes):\n",
    "        self.sequences = sequences\n",
    "        self.next_notes = next_notes\n",
    "\n",
    "    def __len__(self):\n",
    "        return len(self.sequences)\n",
    "\n",
    "    def __getitem__(self, idx):\n",
    "        return torch.tensor(self.sequences[idx], dtype=torch.float32), torch.tensor(self.next_notes[idx], dtype=torch.float32)\n",
    "\n",
    "dataset = MIDIDataset(sequences, next_notes)\n",
    "dataloader = DataLoader(dataset, batch_size=4, shuffle=True)"
   ]
  },
  {
   "cell_type": "code",
   "execution_count": 465,
   "id": "d9dbf742-4bef-4092-85b5-f5774e59722d",
   "metadata": {},
   "outputs": [],
   "source": [
    "class LSTMModel(nn.Module):\n",
    "    def __init__(self, input_size, hidden_size, num_layers):\n",
    "        super(LSTMModel, self).__init__()\n",
    "        self.hidden_size = hidden_size\n",
    "        self.num_layers = num_layers\n",
    "        self.lstm = nn.LSTM(input_size, hidden_size, num_layers, batch_first=True)\n",
    "        self.fc = nn.Linear(hidden_size, input_size)\n",
    "        self.to(device)\n",
    "\n",
    "    def forward(self, x):\n",
    "        h0 = torch.zeros(self.num_layers, x.size(0), self.hidden_size).to(x.device)\n",
    "        c0 = torch.zeros(self.num_layers, x.size(0), self.hidden_size).to(x.device)\n",
    "        \n",
    "        out, _ = self.lstm(x, (h0, c0))\n",
    "        out = self.fc(out[:, -1, :])\n",
    "        return out"
   ]
  },
  {
   "cell_type": "code",
   "execution_count": 467,
   "id": "05555e1f-2728-4483-86c6-f0680624d2dc",
   "metadata": {},
   "outputs": [
    {
     "name": "stdout",
     "output_type": "stream",
     "text": [
      "cuda\n",
      "Epoch [1/3], Average Loss: 0.0055\n",
      "Epoch [2/3], Average Loss: 0.0052\n",
      "Epoch [3/3], Average Loss: 0.0051\n"
     ]
    }
   ],
   "source": [
    "device = torch.device('cuda' if torch.cuda.is_available() else 'cpu')\n",
    "\n",
    "input_size = 4  # [start_time, pitch, velocity, duration]\n",
    "hidden_size = 64\n",
    "num_layers = 2\n",
    "\n",
    "model = LSTMModel(input_size, hidden_size, num_layers)\n",
    "model.device=device\n",
    "\n",
    "print(model.device.type)\n",
    "criterion = nn.MSELoss()\n",
    "optimizer = torch.optim.Adam(model.parameters(), lr=0.001)\n",
    "\n",
    "num_epochs = 3\n",
    "#for hyperparameter testing\n",
    "for epoch in range(num_epochs):\n",
    "    total_loss = 0.0\n",
    "    for i, (sequences, next_notes) in enumerate(dataloader):\n",
    "        sequences = sequences.to(model.device)\n",
    "        next_notes = next_notes.to(model.device)\n",
    "        \n",
    "        #forward pass\n",
    "        outputs = model(sequences)\n",
    "        \n",
    "        #calculate loss\n",
    "        loss = criterion(outputs, next_notes)\n",
    "        total_loss += loss.item()\n",
    "        \n",
    "        #backward pass and optimize\n",
    "        optimizer.zero_grad()\n",
    "        loss.backward()\n",
    "        optimizer.step()\n",
    "\n",
    "    #print average loss for the epoch\n",
    "    avg_loss = total_loss / len(dataloader)\n",
    "    print(f'Epoch [{epoch+1}/{num_epochs}], Average Loss: {avg_loss:.4f}')\n"
   ]
  },
  {
   "cell_type": "code",
   "execution_count": 468,
   "id": "52244c80-29b5-492e-963f-17f4b57d7092",
   "metadata": {},
   "outputs": [
    {
     "name": "stdout",
     "output_type": "stream",
     "text": [
      "Model saved\n"
     ]
    }
   ],
   "source": [
    "filename = f\"./models/model_{datetime.now():%d_%m_%H_%M}.pth\"\n",
    "torch.save(model.state_dict(), filename)\n",
    "print('Model saved')"
   ]
  },
  {
   "cell_type": "code",
   "execution_count": 469,
   "id": "45362654-0bc8-45f7-839a-2567c360f143",
   "metadata": {},
   "outputs": [
    {
     "name": "stdout",
     "output_type": "stream",
     "text": [
      "(52, 4)\n"
     ]
    }
   ],
   "source": [
    "def generate_music(model, start_sequence, length, stop_token=[-1, -1, -1, -1]):\n",
    "    model.eval()\n",
    "    generated_sequence = start_sequence.detach().cpu().numpy().tolist()\n",
    "    current_sequence = start_sequence.detach().cpu().numpy()\n",
    "\n",
    "    for _ in range(length):\n",
    "        current_sequence_tensor = torch.tensor(current_sequence, dtype=torch.float32).unsqueeze(0).to(model.device)\n",
    "        next_note = model(current_sequence_tensor).detach().cpu().numpy().squeeze(0).tolist()\n",
    "        #check for stop token, next note is not generating this so take a look at that later\n",
    "        #if np.array_equal(next_note, stop_token):\n",
    "        #    break\n",
    "        generated_sequence.append(next_note)\n",
    "        current_sequence = np.append(current_sequence[1:], [next_note], axis=0)\n",
    "    \n",
    "    return np.array(generated_sequence[sequence_length:])\n",
    "\n",
    "# generate the sequence using your model\n",
    "# start with the first sequence from your dataset\n",
    "#start_sequence = sequences[0]\n",
    "#or pick random\n",
    "start_sequence = random.choice(sequences)\n",
    "#generate n notes\n",
    "generated_sequence = generate_music(model, start_sequence, 52)\n",
    "print(generated_sequence.shape)\n",
    "\n"
   ]
  },
  {
   "cell_type": "code",
   "execution_count": 470,
   "id": "70369342-b74e-4d6b-b6d8-777ae8741e42",
   "metadata": {},
   "outputs": [
    {
     "name": "stdout",
     "output_type": "stream",
     "text": [
      "Total notes: 52\n",
      "Generated MIDI file saved to ./generated_music_17_06_16_57.mid\n"
     ]
    }
   ],
   "source": [
    "# define the denormalization function\n",
    "def denormalize_notes(normalized_notes, max_time, max_duration):\n",
    "    denormalized_notes = np.zeros_like(normalized_notes)\n",
    "    denormalized_notes[:, 0] = normalized_notes[:, 0] * max_time\n",
    "    denormalized_notes[:, 1] = normalized_notes[:, 1] * 127\n",
    "    denormalized_notes[:, 2] = normalized_notes[:, 2] * 127\n",
    "    denormalized_notes[:, 3] = normalized_notes[:, 3] * max_duration\n",
    "    return denormalized_notes\n",
    "\n",
    "# define the MIDI conversion function\n",
    "def sequence_to_midi(denormalized_sequence, output_path):\n",
    "    midi = pretty_midi.PrettyMIDI()\n",
    "    #program is piano\n",
    "    instrument = pretty_midi.Instrument(program=0)\n",
    "    \n",
    "    for i,note in enumerate(denormalized_sequence):\n",
    "        #First note starts at 0\n",
    "        start = 0.000\n",
    "        pitch = int(note[1])\n",
    "        velocity = int(note[2])\n",
    "        duration = note[3]\n",
    "        #and the next notes should take the previous notes starting point and add the duration of self\n",
    "        if i>0:\n",
    "            start=instrument.notes[i-1].start + duration\n",
    "        midi_note = pretty_midi.Note(\n",
    "            velocity=velocity,\n",
    "            pitch=pitch,\n",
    "            start=start,\n",
    "            end=start+duration\n",
    "            #end=start+duration+1.5\n",
    "        )\n",
    "        instrument.notes.append(midi_note)\n",
    "    print('Total notes:',len(instrument.notes))\n",
    "    midi.instruments.append(instrument)\n",
    "    midi.write(output_path)\n",
    "\n",
    "\n",
    "#denormalize the generated sequence\n",
    "denormalized_sequence = denormalize_notes(generated_sequence, max_time, max_duration)\n",
    "#convert the denormalized sequence to a MIDI file\n",
    "output_path = f\"./generated_music_{datetime.now():%d_%m_%H_%M}.mid\"\n",
    "sequence_to_midi(denormalized_sequence, output_path)\n",
    "\n",
    "print(f\"Generated MIDI file saved to {output_path}\")\n"
   ]
  },
  {
   "cell_type": "code",
   "execution_count": 471,
   "id": "4264ae8d-923d-41ed-96e1-79cc705dc3e8",
   "metadata": {},
   "outputs": [],
   "source": [
    "# Load MIDI file\n",
    "midi_file = output_path\n",
    "midi_data = pretty_midi.PrettyMIDI(midi_file)\n",
    "\n",
    "#extract notes from the first instrument (assuming there's only one)\n",
    "notes = midi_data.instruments[0].notes\n",
    "\n",
    "#extract start times, pitches, and durations\n",
    "start_times = np.array([note.start for note in notes])\n",
    "end_times = np.array([note.end for note in notes])\n",
    "durations = end_times - start_times\n",
    "pitches = np.array([note.pitch for note in notes])\n",
    "\n",
    "#normalize the pitch column (second column) to [0, 1] range\n",
    "min_pitch = 0  #MIDI pitch minimum value\n",
    "max_pitch = 127  #MIDI pitch maximum value\n",
    "normalized_pitches = (pitches - min_pitch) / (max_pitch - min_pitch)\n",
    "\n",
    "#function to map MIDI pitch number to note name\n",
    "def midi_to_note_name(midi_num):\n",
    "    note_names = ['C', 'C#', 'D', 'D#', 'E', 'F', 'F#', 'G', 'G#', 'A', 'A#', 'B']\n",
    "    octave = (midi_num // 12) - 1\n",
    "    note = note_names[midi_num % 12]\n",
    "    return f\"{note}{octave}\"\n"
   ]
  },
  {
   "cell_type": "code",
   "execution_count": 472,
   "id": "c5140f9d-8a96-4b6d-b31a-89265cc53fa0",
   "metadata": {},
   "outputs": [
    {
     "data": {
      "image/png": "[encoded data removed]",
      "text/plain": [
       "<Figure size 1200x600 with 1 Axes>"
      ]
     },
     "metadata": {},
     "output_type": "display_data"
    }
   ],
   "source": [
    "#map normalized pitch values back to note names\n",
    "note_names = [midi_to_note_name(int(pitch * 127)) for pitch in normalized_pitches]\n",
    "\n",
    "plt.figure(figsize=(12, 6))\n",
    "plt.scatter(start_times, normalized_pitches, s=10, label='Notes', color='blue')\n",
    "plt.xlabel('Time (seconds)')\n",
    "plt.ylabel('Normalized MIDI Pitch')\n",
    "plt.title('Normalized MIDI Notes and Durations')\n",
    "plt.legend()\n",
    "plt.grid(True)\n",
    "\n",
    "#labels\n",
    "for i, txt in enumerate(note_names):\n",
    "    plt.annotate(txt, (start_times[i], normalized_pitches[i]), fontsize=8, rotation=45)\n",
    "\n",
    "plt.show()"
   ]
  },
  {
   "cell_type": "code",
   "execution_count": null,
   "id": "3256371a-b618-45d6-9bd7-043a70b1ea35",
   "metadata": {},
   "outputs": [],
   "source": []
  },
  {
   "cell_type": "code",
   "execution_count": null,
   "id": "62753dcc-1d20-48fc-99ab-5f3c9fb9e2dd",
   "metadata": {},
   "outputs": [],
   "source": []
  }
 ],
 "metadata": {
  "kernelspec": {
   "display_name": "Python 3 (ipykernel)",
   "language": "python",
   "name": "python3"
  },
  "language_info": {
   "codemirror_mode": {
    "name": "ipython",
    "version": 3
   },
   "file_extension": ".py",
   "mimetype": "text/x-python",
   "name": "python",
   "nbconvert_exporter": "python",
   "pygments_lexer": "ipython3",
   "version": "3.12.3"
  }
 },
 "nbformat": 4,
 "nbformat_minor": 5
}
